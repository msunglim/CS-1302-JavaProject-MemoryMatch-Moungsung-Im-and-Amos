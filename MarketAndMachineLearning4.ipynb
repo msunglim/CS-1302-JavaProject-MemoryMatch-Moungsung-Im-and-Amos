{
  "nbformat": 4,
  "nbformat_minor": 0,
  "metadata": {
    "colab": {
      "name": "MarketAndMachineLearning4.ipynb",
      "provenance": [],
      "collapsed_sections": [],
      "authorship_tag": "ABX9TyNt2vAHdLEgEeOew7rphBkT",
      "include_colab_link": true
    },
    "kernelspec": {
      "name": "python3",
      "display_name": "Python 3"
    },
    "language_info": {
      "name": "python"
    }
  },
  "cells": [
    {
      "cell_type": "markdown",
      "metadata": {
        "id": "view-in-github",
        "colab_type": "text"
      },
      "source": [
        "<a href=\"https://colab.research.google.com/github/msunglim/CS-1302-JavaProject-MemoryMatch-Moungsung-Im-and-Amos/blob/master/MarketAndMachineLearning4.ipynb\" target=\"_parent\"><img src=\"https://colab.research.google.com/assets/colab-badge.svg\" alt=\"Open In Colab\"/></a>"
      ]
    },
    {
      "cell_type": "code",
      "source": [
        ""
      ],
      "metadata": {
        "id": "trKhj3YfiLV6"
      },
      "execution_count": null,
      "outputs": []
    },
    {
      "cell_type": "code",
      "execution_count": 69,
      "metadata": {
        "colab": {
          "base_uri": "https://localhost:8080/",
          "height": 313
        },
        "id": "VInMePPDVZcC",
        "outputId": "27b0f2b0-8b26-4736-feb7-3790eeb962a2"
      },
      "outputs": [
        {
          "output_type": "display_data",
          "data": {
            "image/png": "[encoded data removed]",
            "text/plain": [
              "<Figure size 432x288 with 1 Axes>"
            ]
          },
          "metadata": {
            "needs_background": "light"
          }
        },
        {
          "output_type": "stream",
          "name": "stdout",
          "text": [
            "train score: 0.6933481168613208 \n",
            "test score 0.7286972442108487\n"
          ]
        }
      ],
      "source": [
        "import matplotlib.pyplot as plt\n",
        "from sklearn.neighbors import KNeighborsRegressor\n",
        "import numpy as np\n",
        "from sklearn.model_selection import train_test_split\n",
        "from sklearn.metrics import mean_absolute_error\n",
        "\n",
        "\n",
        "# # nong o , overfitting\n",
        "# perch_length = [25.4,26.3,26.5,29.0,29.0,29.7,29.7,30.0,30.7,30.9,31.0,31.0,31.5,32.0,32.0,33.0,33.5,33.5,34.0,34.0]\n",
        "# perch_weight= [430.3,450.0,460.0,490.0,450.0,500.0,475.0,500.0,500.0,540.0,600.0,600.0,610.0,615.0,610.0,650.0,675.0,685.0,620.0,680.0]\n",
        "\n",
        "# underfitting\n",
        "perch_length = [25.4,26.3,26.5,29.0,29.0,29.7,29.7,30.0,30.7,30.9,31.0,31.0,31.5,32.0,32.0,33.0,33.5,33.5,34.0,34.0]\n",
        "perch_weight= [430.3,450.0,460.0,490.0,490.0,495.0,500.0,501.0,502.0,540.0,600.0,600.0,610.0,615.0,610.0,650.0,675.0,675.5,680.0,680.0]\n",
        "# print(len(perch_length))= 20\n",
        "\n",
        "plt.scatter(perch_length, perch_weight)\n",
        "plt.xlabel('length')\n",
        "plt.ylabel('weight')\n",
        "plt.show()\n",
        "\n",
        "#we don't need stratify for regression.\n",
        "#train, test input = perch_length, and train,test target = perch_weight\n",
        "train_input, test_input, train_target, test_target = train_test_split(\n",
        "    perch_length, perch_weight, random_state= len(perch_length)\n",
        ")\n",
        "\n",
        "#make the arrays look like [\n",
        "#  [],\n",
        "#  [], \n",
        "# ]\n",
        "train_input = np.array(train_input).reshape(-1,1)\n",
        "test_input = np.array(test_input).reshape(-1,1)\n",
        "\n",
        "knr = KNeighborsRegressor()\n",
        "knr.fit(train_input, train_target)\n",
        "\n",
        "\n",
        "test_prediction = knr.predict(test_input)\n",
        "mae = mean_absolute_error(test_target, test_prediction)\n",
        "\n",
        "# knr.n_neighbors = 9 \n",
        "print(\"train score:\",knr.score(train_input, train_target) , \"\\ntest score\",knr.score(test_input, test_target))\n"
      ]
    }
  ]
}